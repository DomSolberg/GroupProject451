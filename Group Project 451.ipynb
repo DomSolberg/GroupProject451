{
 "cells": [
  {
   "cell_type": "raw",
   "id": "2685f3e4",
   "metadata": {},
   "source": [
    "%load_ext watermark\n",
    "%watermark -d -u -a \"Dominic Solberg\" -v -p numpy,scipy,matplotlib,sklearn,xgboost,matplotlib,skikit-learn"
   ]
  },
  {
   "cell_type": "code",
   "execution_count": 20,
   "id": "2dcba0fd",
   "metadata": {},
   "outputs": [
    {
     "data": {
      "text/plain": [
       "'C:\\\\Users\\\\Dominic Solberg'"
      ]
     },
     "execution_count": 20,
     "metadata": {},
     "output_type": "execute_result"
    }
   ],
   "source": [
    "import os\n",
    "\n",
    "os.getcwd()"
   ]
  },
  {
   "cell_type": "code",
   "execution_count": 22,
   "id": "cbeb5bca",
   "metadata": {},
   "outputs": [
    {
     "data": {
      "text/plain": [
       "'C:\\\\Users\\\\Dominic Solberg\\\\Downloads'"
      ]
     },
     "execution_count": 22,
     "metadata": {},
     "output_type": "execute_result"
    }
   ],
   "source": [
    "os.chdir('C:\\\\Users\\\\Dominic Solberg\\\\Downloads')\n",
    "os.getcwd()"
   ]
  },
  {
   "cell_type": "code",
   "execution_count": 25,
   "id": "3aabb7c5",
   "metadata": {},
   "outputs": [
    {
     "data": {
      "text/html": [
       "<div>\n",
       "<style scoped>\n",
       "    .dataframe tbody tr th:only-of-type {\n",
       "        vertical-align: middle;\n",
       "    }\n",
       "\n",
       "    .dataframe tbody tr th {\n",
       "        vertical-align: top;\n",
       "    }\n",
       "\n",
       "    .dataframe thead th {\n",
       "        text-align: right;\n",
       "    }\n",
       "</style>\n",
       "<table border=\"1\" class=\"dataframe\">\n",
       "  <thead>\n",
       "    <tr style=\"text-align: right;\">\n",
       "      <th></th>\n",
       "      <th>bip_id</th>\n",
       "      <th>game_date</th>\n",
       "      <th>home_team</th>\n",
       "      <th>away_team</th>\n",
       "      <th>batter_team</th>\n",
       "      <th>batter_name</th>\n",
       "      <th>pitcher_name</th>\n",
       "      <th>batter_id</th>\n",
       "      <th>pitcher_id</th>\n",
       "      <th>is_batter_lefty</th>\n",
       "      <th>...</th>\n",
       "      <th>inning</th>\n",
       "      <th>outs_when_up</th>\n",
       "      <th>balls</th>\n",
       "      <th>strikes</th>\n",
       "      <th>plate_x</th>\n",
       "      <th>plate_z</th>\n",
       "      <th>pitch_mph</th>\n",
       "      <th>launch_speed</th>\n",
       "      <th>launch_angle</th>\n",
       "      <th>is_home_run</th>\n",
       "    </tr>\n",
       "  </thead>\n",
       "  <tbody>\n",
       "    <tr>\n",
       "      <th>0</th>\n",
       "      <td>1</td>\n",
       "      <td>2020-08-26</td>\n",
       "      <td>ARI</td>\n",
       "      <td>COL</td>\n",
       "      <td>COL</td>\n",
       "      <td>arenado, nolan</td>\n",
       "      <td>ray, robbie</td>\n",
       "      <td>571448</td>\n",
       "      <td>592662</td>\n",
       "      <td>0</td>\n",
       "      <td>...</td>\n",
       "      <td>1</td>\n",
       "      <td>0</td>\n",
       "      <td>1</td>\n",
       "      <td>2</td>\n",
       "      <td>-0.15</td>\n",
       "      <td>1.97</td>\n",
       "      <td>87.8</td>\n",
       "      <td>108.9</td>\n",
       "      <td>9.0</td>\n",
       "      <td>0</td>\n",
       "    </tr>\n",
       "    <tr>\n",
       "      <th>1</th>\n",
       "      <td>2</td>\n",
       "      <td>2020-08-10</td>\n",
       "      <td>COL</td>\n",
       "      <td>ARI</td>\n",
       "      <td>COL</td>\n",
       "      <td>arenado, nolan</td>\n",
       "      <td>ray, robbie</td>\n",
       "      <td>571448</td>\n",
       "      <td>592662</td>\n",
       "      <td>0</td>\n",
       "      <td>...</td>\n",
       "      <td>1</td>\n",
       "      <td>1</td>\n",
       "      <td>3</td>\n",
       "      <td>1</td>\n",
       "      <td>-0.71</td>\n",
       "      <td>2.88</td>\n",
       "      <td>95.2</td>\n",
       "      <td>NaN</td>\n",
       "      <td>18.0</td>\n",
       "      <td>0</td>\n",
       "    </tr>\n",
       "    <tr>\n",
       "      <th>2</th>\n",
       "      <td>3</td>\n",
       "      <td>2020-08-10</td>\n",
       "      <td>COL</td>\n",
       "      <td>ARI</td>\n",
       "      <td>COL</td>\n",
       "      <td>arenado, nolan</td>\n",
       "      <td>ray, robbie</td>\n",
       "      <td>571448</td>\n",
       "      <td>592662</td>\n",
       "      <td>0</td>\n",
       "      <td>...</td>\n",
       "      <td>3</td>\n",
       "      <td>0</td>\n",
       "      <td>1</td>\n",
       "      <td>2</td>\n",
       "      <td>-0.54</td>\n",
       "      <td>1.75</td>\n",
       "      <td>86.5</td>\n",
       "      <td>75.0</td>\n",
       "      <td>49.0</td>\n",
       "      <td>0</td>\n",
       "    </tr>\n",
       "    <tr>\n",
       "      <th>3</th>\n",
       "      <td>4</td>\n",
       "      <td>2020-08-26</td>\n",
       "      <td>ARI</td>\n",
       "      <td>COL</td>\n",
       "      <td>COL</td>\n",
       "      <td>blackmon, charlie</td>\n",
       "      <td>ray, robbie</td>\n",
       "      <td>453568</td>\n",
       "      <td>592662</td>\n",
       "      <td>1</td>\n",
       "      <td>...</td>\n",
       "      <td>1</td>\n",
       "      <td>0</td>\n",
       "      <td>0</td>\n",
       "      <td>2</td>\n",
       "      <td>-0.42</td>\n",
       "      <td>3.15</td>\n",
       "      <td>86.7</td>\n",
       "      <td>90.6</td>\n",
       "      <td>54.0</td>\n",
       "      <td>0</td>\n",
       "    </tr>\n",
       "    <tr>\n",
       "      <th>4</th>\n",
       "      <td>5</td>\n",
       "      <td>2020-08-10</td>\n",
       "      <td>COL</td>\n",
       "      <td>ARI</td>\n",
       "      <td>COL</td>\n",
       "      <td>blackmon, charlie</td>\n",
       "      <td>ray, robbie</td>\n",
       "      <td>453568</td>\n",
       "      <td>592662</td>\n",
       "      <td>1</td>\n",
       "      <td>...</td>\n",
       "      <td>1</td>\n",
       "      <td>1</td>\n",
       "      <td>1</td>\n",
       "      <td>0</td>\n",
       "      <td>0.18</td>\n",
       "      <td>3.27</td>\n",
       "      <td>96.1</td>\n",
       "      <td>NaN</td>\n",
       "      <td>6.0</td>\n",
       "      <td>0</td>\n",
       "    </tr>\n",
       "  </tbody>\n",
       "</table>\n",
       "<p>5 rows × 25 columns</p>\n",
       "</div>"
      ],
      "text/plain": [
       "   bip_id   game_date home_team away_team batter_team        batter_name  \\\n",
       "0       1  2020-08-26       ARI       COL         COL     arenado, nolan   \n",
       "1       2  2020-08-10       COL       ARI         COL     arenado, nolan   \n",
       "2       3  2020-08-10       COL       ARI         COL     arenado, nolan   \n",
       "3       4  2020-08-26       ARI       COL         COL  blackmon, charlie   \n",
       "4       5  2020-08-10       COL       ARI         COL  blackmon, charlie   \n",
       "\n",
       "  pitcher_name  batter_id  pitcher_id  is_batter_lefty  ...  inning  \\\n",
       "0  ray, robbie     571448      592662                0  ...       1   \n",
       "1  ray, robbie     571448      592662                0  ...       1   \n",
       "2  ray, robbie     571448      592662                0  ...       3   \n",
       "3  ray, robbie     453568      592662                1  ...       1   \n",
       "4  ray, robbie     453568      592662                1  ...       1   \n",
       "\n",
       "  outs_when_up balls strikes  plate_x  plate_z  pitch_mph  launch_speed  \\\n",
       "0            0     1       2    -0.15     1.97       87.8         108.9   \n",
       "1            1     3       1    -0.71     2.88       95.2           NaN   \n",
       "2            0     1       2    -0.54     1.75       86.5          75.0   \n",
       "3            0     0       2    -0.42     3.15       86.7          90.6   \n",
       "4            1     1       0     0.18     3.27       96.1           NaN   \n",
       "\n",
       "   launch_angle  is_home_run  \n",
       "0           9.0            0  \n",
       "1          18.0            0  \n",
       "2          49.0            0  \n",
       "3          54.0            0  \n",
       "4           6.0            0  \n",
       "\n",
       "[5 rows x 25 columns]"
      ]
     },
     "execution_count": 25,
     "metadata": {},
     "output_type": "execute_result"
    }
   ],
   "source": [
    "import pandas as pd\n",
    "\n",
    "df_train = pd.read_csv('train.csv')\n",
    "df_train.head()\n",
    "df_train[,]"
   ]
  },
  {
   "cell_type": "code",
   "execution_count": 46,
   "id": "4150d8ad",
   "metadata": {},
   "outputs": [],
   "source": [
    "X_train = df_train[['plate_x','plate_z', 'pitch_name']].values\n",
    "Y_train = df_train['is_home_run'].values"
   ]
  },
  {
   "cell_type": "code",
   "execution_count": 48,
   "id": "1d5ffb49",
   "metadata": {},
   "outputs": [
    {
     "data": {
      "image/png": "[encoded data removed]",
      "text/plain": [
       "<Figure size 432x288 with 1 Axes>"
      ]
     },
     "metadata": {
      "needs_background": "light"
     },
     "output_type": "display_data"
    }
   ],
   "source": [
    "%matplotlib inline\n",
    "import matplotlib.pyplot as plt\n",
    "\n",
    "plt.scatter(X_train[Y_train == 0, 0],\n",
    "            X_train[Y_train == 0, 1], \n",
    "            label='not homerun',)\n",
    "plt.scatter(X_train[Y_train == 1, 0],\n",
    "            X_train[Y_train == 1, 1], \n",
    "            label='is homerun',)\n",
    "\n",
    "plt.xlabel('pitch horizontal')\n",
    "plt.ylabel('pitch vertical')\n",
    "plt.xlim([-2, 2])\n",
    "plt.ylim([0, 6])\n",
    "plt.legend(loc='upper left')\n",
    "plt.show()"
   ]
  },
  {
   "cell_type": "code",
   "execution_count": 49,
   "id": "97517a03",
   "metadata": {},
   "outputs": [
    {
     "data": {
      "text/plain": [
       "0                 Slider\n",
       "1        4-Seam Fastball\n",
       "2                 Slider\n",
       "3                 Slider\n",
       "4        4-Seam Fastball\n",
       "              ...       \n",
       "46239             Slider\n",
       "46240          Curveball\n",
       "46241    4-Seam Fastball\n",
       "46242             Slider\n",
       "46243    4-Seam Fastball\n",
       "Name: pitch_name, Length: 46244, dtype: object"
      ]
     },
     "execution_count": 49,
     "metadata": {},
     "output_type": "execute_result"
    }
   ],
   "source": [
    "df_train[df_train.columns[13]]"
   ]
  },
  {
   "cell_type": "code",
   "execution_count": null,
   "id": "f9698291",
   "metadata": {},
   "outputs": [],
   "source": []
  }
 ],
 "metadata": {
  "kernelspec": {
   "display_name": "Python 3 (ipykernel)",
   "language": "python",
   "name": "python3"
  },
  "language_info": {
   "codemirror_mode": {
    "name": "ipython",
    "version": 3
   },
   "file_extension": ".py",
   "mimetype": "text/x-python",
   "name": "python",
   "nbconvert_exporter": "python",
   "pygments_lexer": "ipython3",
   "version": "3.9.7"
  }
 },
 "nbformat": 4,
 "nbformat_minor": 5
}
